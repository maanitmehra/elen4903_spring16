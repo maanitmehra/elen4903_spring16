{
 "cells": [
  {
   "cell_type": "code",
   "execution_count": 14,
   "metadata": {
    "collapsed": false
   },
   "outputs": [],
   "source": [
    "a =  \"Never before have I been so excited to witness the trials of an unproven experiment. Definitely a game-changer\"\n",
    "ind = [20,18,1,22,5,12,12,9,20,5]\n",
    "b = \"!FOR IMMEDIATE RELEASE \"\n",
    "#print a[ind]\n"
   ]
  },
  {
   "cell_type": "code",
   "execution_count": 15,
   "metadata": {
    "collapsed": false
   },
   "outputs": [
    {
     "name": "stdout",
     "output_type": "stream",
     "text": [
      "S\n",
      "E\n",
      "F\n",
      " \n",
      "I\n",
      "T\n",
      "T\n",
      "D\n",
      "S\n",
      "I\n"
     ]
    }
   ],
   "source": [
    "for elem in ind:\n",
    "    print b[elem]"
   ]
  },
  {
   "cell_type": "code",
   "execution_count": null,
   "metadata": {
    "collapsed": true
   },
   "outputs": [],
   "source": []
  }
 ],
 "metadata": {
  "kernelspec": {
   "display_name": "Python 2",
   "language": "python",
   "name": "python2"
  },
  "language_info": {
   "codemirror_mode": {
    "name": "ipython",
    "version": 2
   },
   "file_extension": ".py",
   "mimetype": "text/x-python",
   "name": "python",
   "nbconvert_exporter": "python",
   "pygments_lexer": "ipython2",
   "version": "2.7.6"
  }
 },
 "nbformat": 4,
 "nbformat_minor": 0
}
