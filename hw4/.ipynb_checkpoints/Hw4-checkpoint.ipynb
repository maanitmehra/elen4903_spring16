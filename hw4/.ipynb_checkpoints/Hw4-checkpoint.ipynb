{
 "cells": [
  {
   "cell_type": "code",
   "execution_count": 205,
   "metadata": {
    "collapsed": true
   },
   "outputs": [],
   "source": [
    "%matplotlib inline\n",
    "\n",
    "import csv\n",
    "import numpy as np \n",
    "import scipy as sp\n",
    "import pandas as pd\n",
    "from collections import Counter\n",
    "\n",
    "import matplotlib as mpl\n",
    "import matplotlib.pyplot as plt\n",
    "import matplotlib.mlab as mlab\n",
    "import matplotlib.cm as cm"
   ]
  },
  {
   "cell_type": "code",
   "execution_count": 206,
   "metadata": {
    "collapsed": true
   },
   "outputs": [],
   "source": [
    "PATH = \"./movies_csv/\"\n",
    "NUM_OBS = 500\n",
    "\n",
    "PLOT_DISABLE = 0\n",
    "PLOT_ENABLE = 1"
   ]
  },
  {
   "cell_type": "code",
   "execution_count": 207,
   "metadata": {
    "collapsed": true
   },
   "outputs": [],
   "source": [
    "def getData(file):\n",
    "    reader=csv.reader(open(file,\"rb\"),delimiter=',')\n",
    "    x=list(reader)\n",
    "    result=np.array(x).astype(np.float32)\n",
    "    return result"
   ]
  },
  {
   "cell_type": "code",
   "execution_count": 208,
   "metadata": {
    "collapsed": true
   },
   "outputs": [],
   "source": [
    "def genC(n, w):\n",
    "\tw_cumul\t= w.cumsum()\n",
    "\tc\t= np.zeros((1,n))\n",
    "\tw_arr\t= pd.Series(w_cumul)\n",
    "\tc \t= [w_arr[(w_arr > np.random.random())].index[0] for i in range(0,n)]\t\t\n",
    "\treturn c"
   ]
  },
  {
   "cell_type": "code",
   "execution_count": 209,
   "metadata": {
    "collapsed": true
   },
   "outputs": [],
   "source": [
    "def euclid(a,b):\n",
    "    return np.linalg.norm(a-b)"
   ]
  },
  {
   "cell_type": "code",
   "execution_count": 210,
   "metadata": {
    "collapsed": false
   },
   "outputs": [],
   "source": [
    "def kmeans(x, k, iter_num, plot_req):\n",
    "    ## Function takes inputs:\n",
    "    ## x --> input data & k--> k value & iter_num --> number of iterations\n",
    "    ## Returns:\n",
    "    ## c --> cluster assignment, \n",
    "    ## mu--> mean of classes\n",
    "    ## L --> Objective function value\n",
    "    d = np.size(x,axis=1)\n",
    "    n = np.size(x,axis=0)\n",
    "    mu = np.random.rand(d,k) # 2xk in our case.\n",
    "    c = np.zeros((n,1))\n",
    "    L = np.zeros((1,iter_num))\n",
    "    #print d,n\n",
    "    \n",
    "    #int_res = []  # Intermediate x-mu values for all mu.\n",
    "    \n",
    "    for i in range(0,iter_num):\n",
    "            sum = 0\n",
    "            temp_sum = np.zeros((d,k)) # holds summation xi (c=k)\n",
    "            n_k = np.zeros(k) #holds nk\n",
    "            for j in range(0,n):\n",
    "                int_res = [euclid(x[j,:], mu[:,m])**2 for m in range(0,k)]\n",
    "                c[j][0] = np.argmin(int_res)\n",
    "                sum = sum + np.min(int_res)\n",
    "                allo_k = int(c[j][0])\n",
    "                n_k[allo_k] = n_k[allo_k]+1\n",
    "                temp_sum[:,allo_k] = temp_sum[:,allo_k] + x[j,:]\n",
    "            mu = temp_sum*1.0/n_k    \n",
    "                \n",
    "            L[0][i] = L[0][i-1] if np.isnan(sum) else sum \n",
    "    if (plot_req):        \n",
    "        plt.clf()\n",
    "        plt.scatter(x[:,0], x[:,1], c=c*500)\n",
    "        plt.plot(mu[0,:],mu[1,:], 'rx')\n",
    "        plt.title(\"Scatter plot for k=%d\"%k)\n",
    "        plt.savefig(\"./images/k_means_scatter_plot_k=%d.jpg\"%k)\n",
    "        plt.show()\n",
    "    return c, mu , L"
   ]
  },
  {
   "cell_type": "code",
   "execution_count": 211,
   "metadata": {
    "collapsed": false
   },
   "outputs": [],
   "source": [
    "def part1():\n",
    "    print \"Running K-means.\"\n",
    "    pi = np.array([0.2, 0.5, 0.3])\n",
    "    c = genC(NUM_OBS,pi)\n",
    "    mu = [[0,0],[3,0],[0,3]]\n",
    "    sig = [[[1,0],[0,1]],\n",
    "          [[1,0],[0,1]],\n",
    "          [[1,0],[0,1]]]\n",
    "    n = np.zeros(np.size(pi))\n",
    "    samples = []\n",
    "    for i in range(0,len(n)):\n",
    "        n[i] = sum([elem==i for elem in c])\n",
    "        samples=samples+list(np.random.multivariate_normal(mean =mu[i], cov=sig[i], size=int(n[i])))\n",
    "    samples = np.array(samples)\n",
    "    #print samples\n",
    "    \n",
    "    k_val = [2,3,4,5,6]\n",
    "    L_list = []\n",
    "    mu_list = []\n",
    "    c_list = []\n",
    "    for k in k_val:\n",
    "        print \"k=%d\" %k\n",
    "        c, mu , L = kmeans(samples, k, 20, PLOT_ENABLE)\n",
    "        c_list.append(c)\n",
    "        mu_list.append(mu)\n",
    "        L_list.append(L)\n",
    "        #print L\n",
    "    #print L_list\n",
    "    \n",
    "    plt.clf()\n",
    "    for idx,L in enumerate(L_list):\n",
    "    #    print str(idx+2) +\":\"\n",
    "    #    print (L[0])\n",
    "        \n",
    "        plt.plot(L[0], label=\"L=%d\"%(idx+2))\n",
    "    \n",
    "    plt.xlabel(\"Iteration Number\")\n",
    "    plt.ylabel(\"L values\")\n",
    "    plt.title(\"Plot of Objective Functions\")\n",
    "    plt.legend(loc='upper right', shadow=True)\n",
    "    plt.savefig(\"./images/k_means_L_plot.jpg\")\n",
    "    plt.show()\n",
    "    \n",
    "    "
   ]
  },
  {
   "cell_type": "code",
   "execution_count": 215,
   "metadata": {
    "collapsed": true
   },
   "outputs": [],
   "source": [
    "def rmse(array):\n",
    "    return np.sqrt(np.mean(np.array(array)**2))"
   ]
  },
  {
   "cell_type": "code",
   "execution_count": 217,
   "metadata": {
    "collapsed": true
   },
   "outputs": [],
   "source": [
    "def checkM(M):\n",
    "    for i,row in enumerate(M):\n",
    "        for j,col in enumerate(row):\n",
    "            if M[i,j]<1:\n",
    "                M[i,j]=1\n",
    "            elif M[i,j]>5:\n",
    "                M[i,j]=5\n",
    "    return M"
   ]
  },
  {
   "cell_type": "code",
   "execution_count": 218,
   "metadata": {
    "collapsed": true
   },
   "outputs": [],
   "source": [
    "def findIdx(matrix):\n",
    "    idx_arr=[]\n",
    "    for idx,row in enumerate(matrix):\n",
    "        tem_list=[]\n",
    "        for i,col in enumerate(row):\n",
    "            if col != 0:\n",
    "                tem_list.append(i)\n",
    "        idx_arr.append(tem_list)\n",
    "    return idx_arr"
   ]
  },
  {
   "cell_type": "code",
   "execution_count": 278,
   "metadata": {
    "collapsed": false
   },
   "outputs": [],
   "source": [
    "def calcLL(u, v, y_calc, y_train, lam, var):\n",
    "    N1 = np.size(u, axis=0) #N1-->number of users \n",
    "    N2 = np.size(v, axis=0) #N2-->number of movies\n",
    "    d  = np.size(u, axis=1) #d --> rank of matrix\n",
    "    \n",
    "    lnpUi = -(lam / 2.0) * (u ** 2).sum(axis=1).sum()\n",
    "    lnpVj = -(lam / 2.0) * (v ** 2).sum(axis=1).sum()\n",
    "    \n",
    "    lnMij = 0.5/var * ((y_calc-y_train)**2).sum()\n",
    "\n",
    "    \n",
    "    L= -(lnMij + lnpUi + lnpVj)\n",
    "    return L"
   ]
  },
  {
   "cell_type": "code",
   "execution_count": 279,
   "metadata": {
    "collapsed": true
   },
   "outputs": [],
   "source": [
    "def main():\n",
    "    #part1()\n",
    "    part2()"
   ]
  },
  {
   "cell_type": "code",
   "execution_count": 296,
   "metadata": {
    "collapsed": false
   },
   "outputs": [],
   "source": [
    "def part2():\n",
    "    X_train = np.genfromtxt(\"./movies_csv/ratings.txt\", delimiter=',', dtype='int32')\n",
    "    X_test = np.genfromtxt(\"./movies_csv/ratings_test.txt\", delimiter=',', dtype='int32')\n",
    "    label = np.genfromtxt(\"./movies_csv/movies.txt\", dtype='string', delimiter='\\n')\n",
    "    \n",
    "    NUM_ITER = 4\n",
    "    \n",
    "    # creating an (i,j)\n",
    "    \n",
    "    X_train[:,0:2]= X_train[:,0:2]-1\n",
    "    X_test[:,0:2]= X_test[:,0:2]-1\n",
    "    y_train = X_train[:,2]\n",
    "    y_test = X_test[:,2]\n",
    "    \n",
    "    N1 = np.max(X_train[:,0]) + 1 # max user id\n",
    "    N2 = np.max(X_train[:,1]) + 1# max movie id\n",
    "    \n",
    "    d   = 10\n",
    "    lam = 10\n",
    "    var = 0.25\n",
    "    \n",
    "    iden = lam * var * np.eye(d)\n",
    "    \n",
    "    ## Generate the j_train: User ID's for each user who rated the film j\n",
    "    ## & film_rating by that user\n",
    "    j_train = []\n",
    "    film_rating = []\n",
    "    for j in range(0,N2):   # iterate through each movie\n",
    "            idx = np.argwhere(X_train[:,1]== j)\n",
    "            j_train.append(X_train[idx,0])\n",
    "            film_rating.append(X_train[idx,2])            \n",
    "                \n",
    "    ## Generate the i_train: Film ID's for each film rated by user i\n",
    "    ## & user_rating for all films\n",
    "    i_train = []\n",
    "    user_rating = []\n",
    "    for i in range(0,N1):   # iterate through each user\n",
    "            idx = np.argwhere(X_train[:,0]== i)\n",
    "            i_train.append(X_train[idx,1])\n",
    "            user_rating.append(X_train[idx,2])            \n",
    "    \n",
    "    \n",
    "    v = np.random.multivariate_normal(mean =np.zeros(d), cov=(1.0/lam)*np.eye(d), size=N2)\n",
    "    u = np.random.multivariate_normal(mean =np.zeros(d), cov=(1.0/lam)*np.eye(d), size=N1)\n",
    "    \n",
    "    err_list = []\n",
    "    L_list = []\n",
    "    for iteration in range(0,NUM_ITER):\n",
    "        print \"%d th iteration\"%iteration\n",
    "        \n",
    "        for i in range(0,N1):\n",
    "            #print i\n",
    "            term1 = iden\n",
    "            term2 = np.zeros((d,d))\n",
    "            for ind in i_train[i]:\n",
    "                term2 = term2 + np.dot(v[ind,:].T,v[ind,:])\n",
    "            term3 = np.zeros(d)\n",
    "            for idx,ind in enumerate(i_train[i]):\n",
    "                #print ind\n",
    "                term3 = term3 + np.dot(user_rating[i][idx],v[ind,:])\n",
    "            u[i,:] = np.dot(np.linalg.inv(term1+term2),term3)\n",
    "            \n",
    "            \n",
    "        for j in range(0,N2):\n",
    "            term1 = iden\n",
    "            term2 = np.zeros((d,d))\n",
    "            term3 = np.zeros(d)\n",
    "            \n",
    "            for ind in j_train[j]:\n",
    "                term2 = term2 + np.dot(u[ind,:].T,u[ind,:])\n",
    "            for idx,ind in enumerate(j_train[j]):\n",
    "                term3 = term3 + np.dot(film_rating[j][idx],u[ind,:])\n",
    "            v[j,:] = np.dot(np.linalg.inv(term1+term2),term3)\n",
    "                \n",
    "        u_v = np.dot(u,v.T)\n",
    "        y_pred = np.round(u_v[X_test[:,0],X_test[:,1]])\n",
    "        \n",
    "        err_list.append(rmse(y_pred - y_test))\n",
    "       \n",
    "        L_list.append(calcLL(u, v, np.round(u_v[X_train[:,0],X_train[:,1]]), y_train,lam,var))\n",
    "\n",
    "    #part 2.1    \n",
    "    plt.clf()\n",
    "    plt.plot(err_list)\n",
    "    plt.savefig(\"./images/rmse_plot.jpg\")\n",
    "    plt.show()\n",
    "    \n",
    "    #part 2.2\n",
    "    plt.clf()\n",
    "    plt.plot(L_list)\n",
    "    plt.savefig(\"./images/LL_plot.jpg\")\n",
    "    plt.show()\n",
    "    \n",
    "    #part 2.3\n",
    "    NUM_MOV = 5\n",
    "    mov_idx = [87,95,98]\n",
    "    for idx in mov_idx:\n",
    "        mov = v[idx,:]\n",
    "        print \"For the movie '%s':\"%label[idx]\n",
    "        dist = []\n",
    "        for movie in v:\n",
    "            dist.append(euclid(movie,mov))\n",
    "        idx = np.argsort(np.array(dist))[:NUM_MOV+1]\n",
    "        for i in idx[1:]:\n",
    "            print \"\\t\",str(dist[i])\n",
    "            print \"\\t\",label[i]\n",
    "\n",
    "    # part 2.4\n",
    "    c,mu,L = kmeans(u, 20, 1, PLOT_DISABLE)\n",
    "\n",
    "    # part 2.5\n",
    "    c,mu,L = kmeans(v, 20, 1, PLOT_DISABLE)\n"
   ]
  },
  {
   "cell_type": "code",
   "execution_count": 297,
   "metadata": {
    "collapsed": false
   },
   "outputs": [
    {
     "name": "stdout",
     "output_type": "stream",
     "text": [
      "0 th iteration\n",
      "1 th iteration\n",
      "2 th iteration\n",
      "3 th iteration\n"
     ]
    },
    {
     "data": {
      "image/png": "[encoded data removed]",
      "text/plain": [
       "<matplotlib.figure.Figure at 0x7ff05b77be90>"
      ]
     },
     "metadata": {},
     "output_type": "display_data"
    },
    {
     "data": {
      "image/png": "[encoded data removed]",
      "text/plain": [
       "<matplotlib.figure.Figure at 0x7ff05c05fc50>"
      ]
     },
     "metadata": {},
     "output_type": "display_data"
    },
    {
     "name": "stdout",
     "output_type": "stream",
     "text": [
      "For the movie 'Sleepless in Seattle (1993)':\n",
      "\t0.536519233887\n",
      "\tWhile You Were Sleeping (1995)\n",
      "\t0.574105008255\n",
      "\tPrefontaine (1997)\n",
      "\t0.580634383193\n",
      "\tAladdin (1992)\n",
      "\t0.599704019599\n",
      "\tAffair to Remember, An (1957)\n",
      "For the movie 'Terminator 2: Judgment Day (1991)':\n",
      "\t0.775180429609\n",
      "\tTerminator, The (1984)\n",
      "\t0.804017713594\n",
      "\tDie Hard: With a Vengeance (1995)\n",
      "\t0.818712425863\n",
      "\tRaiders of the Lost Ark (1981)\n",
      "\t0.82335614304\n",
      "\tMy Man Godfrey (1936)\n",
      "For the movie 'Snow White and the Seven Dwarfs (1937)':\n",
      "\t0.581012504316\n",
      "\tDumbo (1941)\n",
      "\t0.683059488506\n",
      "\tPinocchio (1940)\n",
      "\t0.690898301921\n",
      "\tWizard of Oz, The (1939)\n",
      "\t0.731441976358\n",
      "\tFantasia (1940)\n"
     ]
    }
   ],
   "source": [
    "main()"
   ]
  },
  {
   "cell_type": "code",
   "execution_count": null,
   "metadata": {
    "collapsed": true
   },
   "outputs": [],
   "source": []
  },
  {
   "cell_type": "code",
   "execution_count": null,
   "metadata": {
    "collapsed": true
   },
   "outputs": [],
   "source": []
  }
 ],
 "metadata": {
  "kernelspec": {
   "display_name": "Python 2",
   "language": "python",
   "name": "python2"
  },
  "language_info": {
   "codemirror_mode": {
    "name": "ipython",
    "version": 2
   },
   "file_extension": ".py",
   "mimetype": "text/x-python",
   "name": "python",
   "nbconvert_exporter": "python",
   "pygments_lexer": "ipython2",
   "version": "2.7.6"
  }
 },
 "nbformat": 4,
 "nbformat_minor": 0
}
