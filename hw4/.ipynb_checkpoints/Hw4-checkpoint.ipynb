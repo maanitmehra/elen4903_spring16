{
 "cells": [
  {
   "cell_type": "code",
   "execution_count": 21,
   "metadata": {
    "collapsed": true
   },
   "outputs": [],
   "source": [
    "import csv\n",
    "import numpy as np \n",
    "import scipy as sp\n",
    "import pandas as pd\n",
    "from collections import Counter\n",
    "\n",
    "import matplotlib as mpl\n",
    "import matplotlib.pyplot as plt\n",
    "import matplotlib.mlab as mlab\n",
    "import matplotlib.cm as cm"
   ]
  },
  {
   "cell_type": "code",
   "execution_count": 22,
   "metadata": {
    "collapsed": true
   },
   "outputs": [],
   "source": [
    "PATH = \"./movies_csv/\"\n",
    "NUM_OBS = 500"
   ]
  },
  {
   "cell_type": "code",
   "execution_count": 23,
   "metadata": {
    "collapsed": true
   },
   "outputs": [],
   "source": [
    "def getData(file):\n",
    "    reader=csv.reader(open(file,\"rb\"),delimiter=',')\n",
    "    x=list(reader)\n",
    "    result=np.array(x).astype(np.float32)\n",
    "    return result"
   ]
  },
  {
   "cell_type": "code",
   "execution_count": 24,
   "metadata": {
    "collapsed": true
   },
   "outputs": [],
   "source": [
    "def genC(n, w):\n",
    "\tw_cumul\t= w.cumsum()\n",
    "\tc\t= np.zeros((1,n))\n",
    "\tw_arr\t= pd.Series(w_cumul)\n",
    "\tc \t= [w_arr[(w_arr > np.random.random())].index[0] for i in range(0,n)]\t\t\n",
    "\treturn c"
   ]
  },
  {
   "cell_type": "code",
   "execution_count": 29,
   "metadata": {
    "collapsed": true
   },
   "outputs": [],
   "source": [
    "def part1():\n",
    "    print \"Running K-means.\"\n",
    "    pi = np.array([0.2, 0.5, 0.3])\n",
    "    c = genC(NUM_OBS,pi)\n",
    "    mu = [[0,0],[3,0],[0,3]]\n",
    "    co = [[[1,0],[0,1]],\n",
    "          [[1,0],[0,1]],\n",
    "          [[1,0],[0,1]]]\n",
    "    n = np.zeros((1,len(pi)))\n",
    "    for i in range(0,len(pi)):\n",
    "          n[i] = len(c[c==i])\n",
    "    print n"
   ]
  },
  {
   "cell_type": "code",
   "execution_count": 30,
   "metadata": {
    "collapsed": true
   },
   "outputs": [],
   "source": [
    "def part2():\n",
    "    print \"Implementing Matrix Factorization\""
   ]
  },
  {
   "cell_type": "code",
   "execution_count": 31,
   "metadata": {
    "collapsed": true
   },
   "outputs": [],
   "source": [
    "def main():\n",
    "    part1()\n",
    "    part2()"
   ]
  },
  {
   "cell_type": "code",
   "execution_count": 32,
   "metadata": {
    "collapsed": false
   },
   "outputs": [
    {
     "name": "stdout",
     "output_type": "stream",
     "text": [
      "Running K-means.\n",
      "[1, 1, 2, 2, 1, 1, 0, 2, 0, 2, 2, 2, 1, 1, 1, 0, 0, 0, 2, 2, 0, 1, 2, 2, 1, 2, 1, 2, 1, 0, 1, 1, 2, 1, 1, 1, 2, 2, 1, 2, 1, 0, 0, 1, 1, 2, 0, 1, 2, 1, 0, 2, 1, 2, 1, 0, 1, 1, 1, 0, 0, 1, 0, 2, 2, 1, 1, 1, 1, 1, 0, 2, 0, 2, 2, 2, 0, 1, 1, 1, 1, 0, 1, 1, 2, 1, 1, 1, 0, 1, 2, 1, 1, 0, 1, 1, 1, 2, 0, 2, 2, 1, 0, 0, 1, 2, 2, 1, 1, 1, 1, 0, 1, 1, 1, 2, 1, 2, 1, 2, 0, 2, 1, 1, 2, 2, 2, 1, 0, 2, 2, 1, 0, 2, 2, 2, 2, 2, 2, 0, 1, 2, 1, 1, 0, 1, 1, 0, 1, 1, 1, 0, 2, 1, 2, 1, 1, 1, 2, 1, 1, 2, 1, 1, 1, 1, 2, 1, 1, 2, 0, 1, 1, 1, 2, 2, 1, 2, 2, 2, 1, 1, 1, 0, 1, 0, 0, 2, 1, 1, 1, 1, 0, 2, 2, 2, 0, 1, 1, 0, 2, 1, 1, 1, 1, 2, 1, 2, 1, 1, 1, 1, 1, 1, 2, 2, 1, 0, 1, 1, 1, 1, 1, 1, 1, 2, 2, 1, 2, 1, 2, 0, 0, 1, 0, 1, 0, 0, 0, 2, 2, 2, 2, 2, 1, 2, 2, 1, 1, 1, 1, 1, 1, 1, 0, 1, 2, 1, 2, 1, 1, 2, 1, 1, 0, 1, 2, 0, 2, 0, 1, 1, 1, 1, 1, 1, 1, 1, 2, 1, 1, 1, 1, 1, 1, 0, 1, 0, 1, 2, 2, 1, 2, 1, 1, 1, 2, 2, 2, 0, 1, 1, 2, 1, 2, 2, 0, 1, 2, 2, 1, 1, 0, 1, 1, 2, 1, 0, 1, 1, 2, 2, 2, 1, 2, 0, 1, 1, 1, 1, 0, 2, 1, 1, 2, 2, 1, 1, 1, 1, 0, 1, 1, 0, 1, 1, 1, 0, 0, 2, 1, 2, 0, 1, 1, 2, 2, 1, 0, 2, 0, 1, 0, 1, 2, 1, 0, 1, 1, 2, 1, 2, 1, 2, 1, 1, 2, 1, 1, 1, 1, 0, 2, 1, 1, 1, 1, 0, 2, 1, 1, 1, 0, 0, 2, 0, 2, 2, 1, 0, 2, 1, 1, 1, 0, 2, 2, 2, 1, 2, 1, 1, 1, 1, 0, 0, 1, 1, 1, 2, 1, 2, 0, 0, 2, 1, 0, 0, 1, 2, 1, 1, 1, 1, 1, 0, 0, 0, 2, 1, 1, 2, 1, 2, 0, 2, 2, 2, 1, 2, 2, 0, 2, 1, 2, 2, 2, 1, 2, 1, 1, 0, 1, 2, 1, 1, 0, 2, 2, 2, 2, 1, 0, 2, 2, 0, 0, 1, 2, 1, 2, 1, 1, 1, 1, 0, 2, 0, 1, 1, 2, 1, 0, 1, 1, 1, 1, 2, 1, 2]\n",
      "Implementing Matrix Factorization\n"
     ]
    }
   ],
   "source": [
    "main()"
   ]
  },
  {
   "cell_type": "code",
   "execution_count": null,
   "metadata": {
    "collapsed": true
   },
   "outputs": [],
   "source": []
  },
  {
   "cell_type": "code",
   "execution_count": null,
   "metadata": {
    "collapsed": true
   },
   "outputs": [],
   "source": []
  }
 ],
 "metadata": {
  "kernelspec": {
   "display_name": "Python 2",
   "language": "python",
   "name": "python2"
  },
  "language_info": {
   "codemirror_mode": {
    "name": "ipython",
    "version": 2
   },
   "file_extension": ".py",
   "mimetype": "text/x-python",
   "name": "python",
   "nbconvert_exporter": "python",
   "pygments_lexer": "ipython2",
   "version": "2.7.6"
  }
 },
 "nbformat": 4,
 "nbformat_minor": 0
}
