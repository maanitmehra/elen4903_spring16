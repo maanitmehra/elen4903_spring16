{
 "cells": [
  {
   "cell_type": "code",
   "execution_count": 107,
   "metadata": {
    "collapsed": true
   },
   "outputs": [],
   "source": [
    "%matplotlib inline\n",
    "\n",
    "import csv\n",
    "import numpy as np \n",
    "import scipy as sp\n",
    "import pandas as pd\n",
    "from collections import Counter\n",
    "\n",
    "import matplotlib as mpl\n",
    "import matplotlib.pyplot as plt\n",
    "import matplotlib.mlab as mlab\n",
    "import matplotlib.cm as cm"
   ]
  },
  {
   "cell_type": "code",
   "execution_count": 108,
   "metadata": {
    "collapsed": true
   },
   "outputs": [],
   "source": [
    "PATH = \"./movies_csv/\"\n",
    "NUM_OBS = 500\n",
    "\n",
    "PLOT_DISABLE = 0\n",
    "PLOT_ENABLE = 1"
   ]
  },
  {
   "cell_type": "code",
   "execution_count": 109,
   "metadata": {
    "collapsed": true
   },
   "outputs": [],
   "source": [
    "def getData(file):\n",
    "    reader=csv.reader(open(file,\"rb\"),delimiter=',')\n",
    "    x=list(reader)\n",
    "    result=np.array(x).astype(np.float32)\n",
    "    return result"
   ]
  },
  {
   "cell_type": "code",
   "execution_count": 110,
   "metadata": {
    "collapsed": true
   },
   "outputs": [],
   "source": [
    "def genC(n, w):\n",
    "\tw_cumul\t= w.cumsum()\n",
    "\tc\t= np.zeros((1,n))\n",
    "\tw_arr\t= pd.Series(w_cumul)\n",
    "\tc \t= [w_arr[(w_arr > np.random.random())].index[0] for i in range(0,n)]\t\t\n",
    "\treturn c"
   ]
  },
  {
   "cell_type": "code",
   "execution_count": 111,
   "metadata": {
    "collapsed": true
   },
   "outputs": [],
   "source": [
    "def euclid(a,b):\n",
    "    return np.linalg.norm(a-b)"
   ]
  },
  {
   "cell_type": "code",
   "execution_count": 156,
   "metadata": {
    "collapsed": false
   },
   "outputs": [],
   "source": [
    "def kmeans(x, k, iter_num, plot_req):\n",
    "    ## Function takes inputs:\n",
    "    ## x --> input data & k--> k value & iter_num --> number of iterations\n",
    "    ## Returns:\n",
    "    ## c --> cluster assignment, \n",
    "    ## mu--> mean of classes\n",
    "    ## L --> Objective function value\n",
    "    d = np.size(x,axis=1)\n",
    "    n = np.size(x,axis=0)\n",
    "    mu = np.random.rand(d,k) # 2xk in our case.\n",
    "    c = np.zeros((n,1))\n",
    "    L = np.zeros((1,iter_num))\n",
    "    #print d,n\n",
    "    \n",
    "    #int_res = []  # Intermediate x-mu values for all mu.\n",
    "    \n",
    "    for i in range(0,iter_num):\n",
    "            sum = 0\n",
    "            temp_sum = np.zeros((d,k)) # holds summation xi (c=k)\n",
    "            n_k = np.zeros(k) #holds nk\n",
    "            for j in range(0,n):\n",
    "                int_res = [euclid(x[j,:], mu[:,m])**2 for m in range(0,k)]\n",
    "                c[j][0] = np.argmin(int_res)\n",
    "                sum = sum + np.min(int_res)\n",
    "                allo_k = int(c[j][0])\n",
    "                n_k[allo_k] = n_k[allo_k]+1\n",
    "                temp_sum[:,allo_k] = temp_sum[:,allo_k] + x[j,:]\n",
    "            mu = temp_sum*1.0/n_k    \n",
    "                \n",
    "            L[0][i] = L[0][i-1] if np.isnan(sum) else sum \n",
    "    if (plot_req):        \n",
    "        plt.clf()\n",
    "        plt.scatter(x[:,0], x[:,1], c=c*500)\n",
    "        plt.plot(mu[0,:],mu[1,:], 'rx')\n",
    "        plt.title(\"Scatter plot for k=%d\"%k)\n",
    "        plt.savefig(\"./images/k_means_scatter_plot_k=%d.jpg\"%k)\n",
    "        plt.show()\n",
    "    return c, mu , L"
   ]
  },
  {
   "cell_type": "code",
   "execution_count": 157,
   "metadata": {
    "collapsed": false
   },
   "outputs": [],
   "source": [
    "def part1():\n",
    "    print \"Running K-means.\"\n",
    "    pi = np.array([0.2, 0.5, 0.3])\n",
    "    c = genC(NUM_OBS,pi)\n",
    "    mu = [[0,0],[3,0],[0,3]]\n",
    "    sig = [[[1,0],[0,1]],\n",
    "          [[1,0],[0,1]],\n",
    "          [[1,0],[0,1]]]\n",
    "    n = np.zeros(np.size(pi))\n",
    "    samples = []\n",
    "    for i in range(0,len(n)):\n",
    "        n[i] = sum([elem==i for elem in c])\n",
    "        samples=samples+list(np.random.multivariate_normal(mean =mu[i], cov=sig[i], size=int(n[i])))\n",
    "    samples = np.array(samples)\n",
    "    #print samples\n",
    "    \n",
    "    k_val = [2,3,4,5,6]\n",
    "    L_list = []\n",
    "    mu_list = []\n",
    "    c_list = []\n",
    "    for k in k_val:\n",
    "        print \"k=%d\" %k\n",
    "        c, mu , L = kmeans(samples, k, 20, PLOT_ENABLE)\n",
    "        c_list.append(c)\n",
    "        mu_list.append(mu)\n",
    "        L_list.append(L)\n",
    "        #print L\n",
    "    #print L_list\n",
    "    \n",
    "    plt.clf()\n",
    "    for idx,L in enumerate(L_list):\n",
    "    #    print str(idx+2) +\":\"\n",
    "    #    print (L[0])\n",
    "        \n",
    "        plt.plot(L[0], label=\"L=%d\"%(idx+2))\n",
    "    \n",
    "    plt.xlabel(\"Iteration Number\")\n",
    "    plt.ylabel(\"L values\")\n",
    "    plt.title(\"Plot of Objective Functions\")\n",
    "    plt.legend(loc='upper right', shadow=True)\n",
    "    plt.savefig(\"./images/k_means_L_plot.jpg\")\n",
    "    plt.show()\n",
    "    \n",
    "    '''\n",
    "    for idx,mu in enumerate(mu_list):\n",
    "    #    print str(idx+2) +\":\"\n",
    "    #    print (L[0])\n",
    "        plt.clf()\n",
    "        plt.plot(mu[0,:],mu[1,:], 'rx')\n",
    "        plt.scatter(samples[:,0],samples[:,1], c = c_list[idx]*255)\n",
    "        plt.xlabel(\"X_1 value\")\n",
    "        plt.ylabel(\"X_2 value\")\n",
    "        plt.title(\"Scatter plot , \\mu plot k=%d\"%(idx+2))\n",
    "        plt.legend(loc='upper right', shadow=True)\n",
    "        plt.savefig(\"./images/k_means_scatter_plot_k_\"+str(idx+2)+\".jpg\")\n",
    "        plt.show()\n",
    "    '''\n",
    "    "
   ]
  },
  {
   "cell_type": "code",
   "execution_count": 158,
   "metadata": {
    "collapsed": true
   },
   "outputs": [],
   "source": [
    "def part2():\n",
    "    print \"Implementing Matrix Factorization\""
   ]
  },
  {
   "cell_type": "code",
   "execution_count": 159,
   "metadata": {
    "collapsed": true
   },
   "outputs": [],
   "source": [
    "def main():\n",
    "    part1()\n",
    "    part2()"
   ]
  },
  {
   "cell_type": "code",
   "execution_count": 160,
   "metadata": {
    "collapsed": false
   },
   "outputs": [
    {
     "name": "stdout",
     "output_type": "stream",
     "text": [
      "Running K-means.\n",
      "k=2\n"
     ]
    },
    {
     "ename": "NameError",
     "evalue": "global name 'PLOT_ENABLE' is not defined",
     "output_type": "error",
     "traceback": [
      "\u001b[1;31m---------------------------------------------------------------------------\u001b[0m",
      "\u001b[1;31mNameError\u001b[0m                                 Traceback (most recent call last)",
      "\u001b[1;32m<ipython-input-160-58ca95c5b364>\u001b[0m in \u001b[0;36m<module>\u001b[1;34m()\u001b[0m\n\u001b[1;32m----> 1\u001b[1;33m \u001b[0mmain\u001b[0m\u001b[1;33m(\u001b[0m\u001b[1;33m)\u001b[0m\u001b[1;33m\u001b[0m\u001b[0m\n\u001b[0m",
      "\u001b[1;32m<ipython-input-159-dcf5ea65d4bf>\u001b[0m in \u001b[0;36mmain\u001b[1;34m()\u001b[0m\n\u001b[0;32m      1\u001b[0m \u001b[1;32mdef\u001b[0m \u001b[0mmain\u001b[0m\u001b[1;33m(\u001b[0m\u001b[1;33m)\u001b[0m\u001b[1;33m:\u001b[0m\u001b[1;33m\u001b[0m\u001b[0m\n\u001b[1;32m----> 2\u001b[1;33m     \u001b[0mpart1\u001b[0m\u001b[1;33m(\u001b[0m\u001b[1;33m)\u001b[0m\u001b[1;33m\u001b[0m\u001b[0m\n\u001b[0m\u001b[0;32m      3\u001b[0m     \u001b[0mpart2\u001b[0m\u001b[1;33m(\u001b[0m\u001b[1;33m)\u001b[0m\u001b[1;33m\u001b[0m\u001b[0m\n",
      "\u001b[1;32m<ipython-input-157-a50099ccfcdf>\u001b[0m in \u001b[0;36mpart1\u001b[1;34m()\u001b[0m\n\u001b[0;32m     21\u001b[0m     \u001b[1;32mfor\u001b[0m \u001b[0mk\u001b[0m \u001b[1;32min\u001b[0m \u001b[0mk_val\u001b[0m\u001b[1;33m:\u001b[0m\u001b[1;33m\u001b[0m\u001b[0m\n\u001b[0;32m     22\u001b[0m         \u001b[1;32mprint\u001b[0m \u001b[1;34m\"k=%d\"\u001b[0m \u001b[1;33m%\u001b[0m\u001b[0mk\u001b[0m\u001b[1;33m\u001b[0m\u001b[0m\n\u001b[1;32m---> 23\u001b[1;33m         \u001b[0mc\u001b[0m\u001b[1;33m,\u001b[0m \u001b[0mmu\u001b[0m \u001b[1;33m,\u001b[0m \u001b[0mL\u001b[0m \u001b[1;33m=\u001b[0m \u001b[0mkmeans\u001b[0m\u001b[1;33m(\u001b[0m\u001b[0msamples\u001b[0m\u001b[1;33m,\u001b[0m \u001b[0mk\u001b[0m\u001b[1;33m,\u001b[0m \u001b[1;36m20\u001b[0m\u001b[1;33m,\u001b[0m \u001b[0mPLOT_ENABLE\u001b[0m\u001b[1;33m)\u001b[0m\u001b[1;33m\u001b[0m\u001b[0m\n\u001b[0m\u001b[0;32m     24\u001b[0m         \u001b[0mc_list\u001b[0m\u001b[1;33m.\u001b[0m\u001b[0mappend\u001b[0m\u001b[1;33m(\u001b[0m\u001b[0mc\u001b[0m\u001b[1;33m)\u001b[0m\u001b[1;33m\u001b[0m\u001b[0m\n\u001b[0;32m     25\u001b[0m         \u001b[0mmu_list\u001b[0m\u001b[1;33m.\u001b[0m\u001b[0mappend\u001b[0m\u001b[1;33m(\u001b[0m\u001b[0mmu\u001b[0m\u001b[1;33m)\u001b[0m\u001b[1;33m\u001b[0m\u001b[0m\n",
      "\u001b[1;31mNameError\u001b[0m: global name 'PLOT_ENABLE' is not defined"
     ]
    }
   ],
   "source": [
    "main()"
   ]
  },
  {
   "cell_type": "code",
   "execution_count": null,
   "metadata": {
    "collapsed": true
   },
   "outputs": [],
   "source": []
  },
  {
   "cell_type": "code",
   "execution_count": null,
   "metadata": {
    "collapsed": true
   },
   "outputs": [],
   "source": []
  }
 ],
 "metadata": {
  "kernelspec": {
   "display_name": "Python 2",
   "language": "python",
   "name": "python2"
  },
  "language_info": {
   "codemirror_mode": {
    "name": "ipython",
    "version": 2
   },
   "file_extension": ".py",
   "mimetype": "text/x-python",
   "name": "python",
   "nbconvert_exporter": "python",
   "pygments_lexer": "ipython2",
   "version": "2.7.6"
  }
 },
 "nbformat": 4,
 "nbformat_minor": 0
}
